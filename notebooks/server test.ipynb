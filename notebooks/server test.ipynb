{
 "cells": [
  {
   "cell_type": "code",
   "execution_count": 1,
   "id": "8df7a5bb",
   "metadata": {},
   "outputs": [],
   "source": [
    "import bittensor\n",
    "import torch \n",
    "from torch.nn.utils import clip_grad_norm_"
   ]
  },
  {
   "cell_type": "code",
   "execution_count": 2,
   "id": "b2415d8f",
   "metadata": {},
   "outputs": [
    {
     "name": "stdout",
     "output_type": "stream",
     "text": [
      "\u001b[34m2021-09-22 11:00:36.381\u001b[0m | \u001b[32m\u001b[1m    SUCCESS     \u001b[0m | Set debug:          \u001b[32mON\u001b[0m\n",
      "\u001b[34m2021-09-22 11:00:36.382\u001b[0m | \u001b[32m\u001b[1m    SUCCESS     \u001b[0m | Set trace:          \u001b[31mOFF\u001b[0m\n",
      "\u001b[34m2021-09-22 11:00:36.382\u001b[0m | \u001b[32m\u001b[1m    SUCCESS     \u001b[0m | Set record log:     \u001b[31mOFF\u001b[0m\n"
     ]
    }
   ],
   "source": [
    "logging=bittensor.logging(debug=True)\n",
    "dataload = bittensor.dataloader(max_corpus_size=10000)"
   ]
  },
  {
   "cell_type": "code",
   "execution_count": 3,
   "id": "9e07f64c",
   "metadata": {},
   "outputs": [
    {
     "name": "stdout",
     "output_type": "stream",
     "text": [
      "\n",
      "axon:\n",
      "  ip: '[::]'\n",
      "  max_workers: 10\n",
      "  maximum_concurrent_rpcs: 400\n",
      "  port: 8091\n",
      "logging:\n",
      "  debug: false\n",
      "  logging_dir: ~/.bittensor/miners\n",
      "  record_log: false\n",
      "  trace: false\n",
      "neuron:\n",
      "  api_key: default\n",
      "server:\n",
      "  checking: true\n",
      "  clip_gradients: 1.0\n",
      "  device: cpu\n",
      "  inter_degree: nearest\n",
      "  interpolate: true\n",
      "  learning_rate: 0.1\n",
      "  momentum: 0.8\n",
      "  name: template_server\n",
      "  padding: true\n",
      "  pretrained: gpt2\n",
      "subtensor:\n",
      "  chain_endpoint: null\n",
      "  network: akatsuki\n",
      "wallet:\n",
      "  hotkey: default\n",
      "  name: default\n",
      "  path: ~/.bittensor/wallets/\n",
      "wandb:\n",
      "  directory: default\n",
      "  name: default\n",
      "  offline: false\n",
      "  project: default\n",
      "  run_group: default\n",
      "  tags: default\n",
      "\n"
     ]
    }
   ],
   "source": [
    "from transformers import GPT2Model\n",
    "\n",
    "gpt_server = server()"
   ]
  },
  {
   "cell_type": "code",
   "execution_count": 4,
   "id": "88cac49c",
   "metadata": {},
   "outputs": [
    {
     "data": {
      "text/plain": [
       "'gpt2'"
      ]
     },
     "execution_count": 4,
     "metadata": {},
     "output_type": "execute_result"
    }
   ],
   "source": [
    "gpt_server.pre_model.name_or_path"
   ]
  },
  {
   "cell_type": "code",
   "execution_count": 6,
   "id": "c25a3571",
   "metadata": {},
   "outputs": [
    {
     "name": "stdout",
     "output_type": "stream",
     "text": [
      "torch.Size([10, 20, 1024])\n",
      "torch.Size([10, 20, 1280])\n",
      "iteration 0 loss 10.429719924926758\n",
      "torch.Size([10, 20, 1024])\n",
      "torch.Size([10, 20, 1280])\n",
      "torch.Size([10, 20, 1024])\n",
      "torch.Size([10, 20, 1280])\n"
     ]
    },
    {
     "ename": "KeyboardInterrupt",
     "evalue": "",
     "output_type": "error",
     "traceback": [
      "\u001b[0;31m---------------------------------------------------------------------------\u001b[0m",
      "\u001b[0;31mKeyboardInterrupt\u001b[0m                         Traceback (most recent call last)",
      "\u001b[0;32m/tmp/ipykernel_3046/2425747273.py\u001b[0m in \u001b[0;36m<module>\u001b[0;34m\u001b[0m\n\u001b[1;32m     10\u001b[0m     \u001b[0mloss\u001b[0m\u001b[0;34m,\u001b[0m \u001b[0m_\u001b[0m \u001b[0;34m=\u001b[0m \u001b[0mgpt_server\u001b[0m\u001b[0;34m(\u001b[0m \u001b[0minputs\u001b[0m \u001b[0;34m)\u001b[0m\u001b[0;34m\u001b[0m\u001b[0;34m\u001b[0m\u001b[0m\n\u001b[1;32m     11\u001b[0m     \u001b[0mprint\u001b[0m\u001b[0;34m(\u001b[0m\u001b[0mgpt_server\u001b[0m\u001b[0;34m.\u001b[0m\u001b[0mencode_forward\u001b[0m\u001b[0;34m(\u001b[0m\u001b[0minputs\u001b[0m\u001b[0;34m)\u001b[0m\u001b[0;34m.\u001b[0m\u001b[0msize\u001b[0m\u001b[0;34m(\u001b[0m\u001b[0;34m)\u001b[0m\u001b[0;34m)\u001b[0m\u001b[0;34m\u001b[0m\u001b[0;34m\u001b[0m\u001b[0m\n\u001b[0;32m---> 12\u001b[0;31m     \u001b[0mloss\u001b[0m\u001b[0;34m.\u001b[0m\u001b[0mbackward\u001b[0m\u001b[0;34m(\u001b[0m\u001b[0;34m)\u001b[0m\u001b[0;34m\u001b[0m\u001b[0;34m\u001b[0m\u001b[0m\n\u001b[0m\u001b[1;32m     13\u001b[0m     \u001b[0mclip_grad_norm_\u001b[0m\u001b[0;34m(\u001b[0m\u001b[0mgpt_server\u001b[0m\u001b[0;34m.\u001b[0m\u001b[0mparameters\u001b[0m\u001b[0;34m(\u001b[0m\u001b[0;34m)\u001b[0m\u001b[0;34m,\u001b[0m \u001b[0;36m1.0\u001b[0m\u001b[0;34m)\u001b[0m\u001b[0;34m\u001b[0m\u001b[0;34m\u001b[0m\u001b[0m\n\u001b[1;32m     14\u001b[0m     \u001b[0moptimizer\u001b[0m\u001b[0;34m.\u001b[0m\u001b[0mstep\u001b[0m\u001b[0;34m(\u001b[0m\u001b[0;34m)\u001b[0m\u001b[0;34m\u001b[0m\u001b[0;34m\u001b[0m\u001b[0m\n",
      "\u001b[0;32m~/.bittensor/env/lib/python3.8/site-packages/torch/_tensor.py\u001b[0m in \u001b[0;36mbackward\u001b[0;34m(self, gradient, retain_graph, create_graph, inputs)\u001b[0m\n\u001b[1;32m    253\u001b[0m                 \u001b[0mcreate_graph\u001b[0m\u001b[0;34m=\u001b[0m\u001b[0mcreate_graph\u001b[0m\u001b[0;34m,\u001b[0m\u001b[0;34m\u001b[0m\u001b[0;34m\u001b[0m\u001b[0m\n\u001b[1;32m    254\u001b[0m                 inputs=inputs)\n\u001b[0;32m--> 255\u001b[0;31m         \u001b[0mtorch\u001b[0m\u001b[0;34m.\u001b[0m\u001b[0mautograd\u001b[0m\u001b[0;34m.\u001b[0m\u001b[0mbackward\u001b[0m\u001b[0;34m(\u001b[0m\u001b[0mself\u001b[0m\u001b[0;34m,\u001b[0m \u001b[0mgradient\u001b[0m\u001b[0;34m,\u001b[0m \u001b[0mretain_graph\u001b[0m\u001b[0;34m,\u001b[0m \u001b[0mcreate_graph\u001b[0m\u001b[0;34m,\u001b[0m \u001b[0minputs\u001b[0m\u001b[0;34m=\u001b[0m\u001b[0minputs\u001b[0m\u001b[0;34m)\u001b[0m\u001b[0;34m\u001b[0m\u001b[0;34m\u001b[0m\u001b[0m\n\u001b[0m\u001b[1;32m    256\u001b[0m \u001b[0;34m\u001b[0m\u001b[0m\n\u001b[1;32m    257\u001b[0m     \u001b[0;32mdef\u001b[0m \u001b[0mregister_hook\u001b[0m\u001b[0;34m(\u001b[0m\u001b[0mself\u001b[0m\u001b[0;34m,\u001b[0m \u001b[0mhook\u001b[0m\u001b[0;34m)\u001b[0m\u001b[0;34m:\u001b[0m\u001b[0;34m\u001b[0m\u001b[0;34m\u001b[0m\u001b[0m\n",
      "\u001b[0;32m~/.bittensor/env/lib/python3.8/site-packages/torch/autograd/__init__.py\u001b[0m in \u001b[0;36mbackward\u001b[0;34m(tensors, grad_tensors, retain_graph, create_graph, grad_variables, inputs)\u001b[0m\n\u001b[1;32m    145\u001b[0m         \u001b[0mretain_graph\u001b[0m \u001b[0;34m=\u001b[0m \u001b[0mcreate_graph\u001b[0m\u001b[0;34m\u001b[0m\u001b[0;34m\u001b[0m\u001b[0m\n\u001b[1;32m    146\u001b[0m \u001b[0;34m\u001b[0m\u001b[0m\n\u001b[0;32m--> 147\u001b[0;31m     Variable._execution_engine.run_backward(\n\u001b[0m\u001b[1;32m    148\u001b[0m         \u001b[0mtensors\u001b[0m\u001b[0;34m,\u001b[0m \u001b[0mgrad_tensors_\u001b[0m\u001b[0;34m,\u001b[0m \u001b[0mretain_graph\u001b[0m\u001b[0;34m,\u001b[0m \u001b[0mcreate_graph\u001b[0m\u001b[0;34m,\u001b[0m \u001b[0minputs\u001b[0m\u001b[0;34m,\u001b[0m\u001b[0;34m\u001b[0m\u001b[0;34m\u001b[0m\u001b[0m\n\u001b[1;32m    149\u001b[0m         allow_unreachable=True, accumulate_grad=True)  # allow_unreachable flag\n",
      "\u001b[0;31mKeyboardInterrupt\u001b[0m: "
     ]
    }
   ],
   "source": [
    "optimizer = torch.optim.SGD(\n",
    "    [ {\"params\": gpt_server.parameters()} ],\n",
    "    lr = 0.1,\n",
    "    momentum = 0.9,\n",
    ")\n",
    "epoch_loss = 0\n",
    "epoch_batches = dataload.dataloader(epoch_length=20)\n",
    "for iteration, inputs in enumerate(epoch_batches):\n",
    "    optimizer.zero_grad()\n",
    "    loss, _ = gpt_server( inputs )\n",
    "    print(gpt_server.encode_forward(inputs).size())\n",
    "    loss.backward()\n",
    "    clip_grad_norm_(gpt_server.parameters(), 1.0)\n",
    "    optimizer.step()\n",
    "    epoch_loss += loss.item()\n",
    "    if iteration % 10 == 0:\n",
    "        print('iteration {} loss'.format(iteration),loss.item())\n",
    "print('epoch loss',epoch_loss/20)"
   ]
  },
  {
   "cell_type": "code",
   "execution_count": 8,
   "id": "94afd97e",
   "metadata": {},
   "outputs": [
    {
     "name": "stdout",
     "output_type": "stream",
     "text": [
      "\u001b[34m2021-09-21 14:24:38.370\u001b[0m | \u001b[32m\u001b[1m    SUCCESS     \u001b[0m | Loaded coldkey.pub: \u001b[34m0x7ebe77b441d388648d13664e561983bb7168a3d13379bc4c7ded667685b62073\u001b[0m\n",
      "\u001b[34m2021-09-21 14:24:38.373\u001b[0m | \u001b[32m\u001b[1m    SUCCESS     \u001b[0m | Loaded hotkey:      \u001b[34m0x8a585df1db05e0d2c3ee5b6dc28e8b2cd408a7efc29269fdc07d3fd50fdda336\u001b[0m\n",
      "\u001b[34m2021-09-21 14:24:38.378\u001b[0m | \u001b[32m\u001b[1m    SUCCESS     \u001b[0m | Axon Stopped:       \u001b[34m[::]:8091\u001b[0m\n",
      "\u001b[34m2021-09-21 14:24:38.380\u001b[0m | \u001b[32m\u001b[1m    SUCCESS     \u001b[0m | Axon Started:       \u001b[34m[::]:8091\u001b[0m\n",
      "huggingface/tokenizers: The current process just got forked, after parallelism has already been used. Disabling parallelism to avoid deadlocks...\n",
      "To disable this warning, you can either:\n",
      "\t- Avoid using `tokenizers` before the fork if possible\n",
      "\t- Explicitly set the environment variable TOKENIZERS_PARALLELISM=(true | false)\n",
      "\u001b[34m2021-09-21 14:24:39.151\u001b[0m | \u001b[32m\u001b[1m    SUCCESS     \u001b[0m | External IP:        \u001b[34m70.69.22.235\u001b[0m\n",
      "\u001b[34m2021-09-21 14:24:40.160\u001b[0m | \u001b[32m\u001b[1m    SUCCESS     \u001b[0m | Already subscribed  \u001b[34mip: 70.69.22.235, port: 8091, modality: 0, hotkey: 0x8a585df1db05e0d2c3ee5b6dc28e8b2cd408a7efc29269fdc07d3fd50fdda336, coldkey: 0x7ebe77b441d388648d13664e561983bb7168a3d13379bc4c7ded667685b62073\u001b[0m\n"
     ]
    }
   ],
   "source": [
    "wallet= bittensor.wallet().create()\n",
    "gpt_server.start(wallet,optimizer)"
   ]
  },
  {
   "cell_type": "code",
   "execution_count": 9,
   "id": "aacc2a4b",
   "metadata": {},
   "outputs": [
    {
     "name": "stdout",
     "output_type": "stream",
     "text": [
      "\u001b[34m2021-09-21 15:37:08.690\u001b[0m | \u001b[32m\u001b[1m    SUCCESS     \u001b[0m | Axon Stopped:       \u001b[34m[::]:8091\u001b[0m\n"
     ]
    },
    {
     "data": {
      "text/plain": [
       "Axon([::], 8091, 5FC6iTwsR3oJs4db92uBTjPBs6HuA1H4bPCs6aGbvdLxa88m, stopped)"
      ]
     },
     "execution_count": 9,
     "metadata": {},
     "output_type": "execute_result"
    }
   ],
   "source": [
    "gpt_server.axon.stop()"
   ]
  },
  {
   "cell_type": "code",
   "execution_count": null,
   "id": "6c21d65d",
   "metadata": {},
   "outputs": [],
   "source": []
  }
 ],
 "metadata": {
  "kernelspec": {
   "display_name": "Python 3 (ipykernel)",
   "language": "python",
   "name": "python3"
  },
  "language_info": {
   "codemirror_mode": {
    "name": "ipython",
    "version": 3
   },
   "file_extension": ".py",
   "mimetype": "text/x-python",
   "name": "python",
   "nbconvert_exporter": "python",
   "pygments_lexer": "ipython3",
   "version": "3.8.10"
  }
 },
 "nbformat": 4,
 "nbformat_minor": 5
}
