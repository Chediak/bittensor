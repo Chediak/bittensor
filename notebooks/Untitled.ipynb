{
 "cells": [
  {
   "cell_type": "code",
   "execution_count": 3,
   "id": "d792a172",
   "metadata": {},
   "outputs": [],
   "source": [
    "import bittensor\n",
    "import torch\n",
    "def forward( pubkey:str, inputs_x: torch.Tensor):\n",
    "    return None"
   ]
  },
  {
   "cell_type": "code",
   "execution_count": 23,
   "id": "b5d4aeec",
   "metadata": {},
   "outputs": [
    {
     "name": "stdout",
     "output_type": "stream",
     "text": [
      "\u001b[34m2021-08-16 14:19:34.708\u001b[0m | \u001b[32m\u001b[1m    SUCCESS     \u001b[0m | Set debug:          \u001b[31mOFF\u001b[0m\n",
      "\u001b[34m2021-08-16 14:19:34.708\u001b[0m | \u001b[32m\u001b[1m    SUCCESS     \u001b[0m | Set trace:          \u001b[31mOFF\u001b[0m\n",
      "\u001b[34m2021-08-16 14:19:34.709\u001b[0m | \u001b[32m\u001b[1m    SUCCESS     \u001b[0m | Set record log:     \u001b[31mOFF\u001b[0m\n"
     ]
    }
   ],
   "source": [
    "meta = bittensor.metagraph()\n",
    "den = bittensor.dendrite()\n",
    "logging = bittensor.logging()"
   ]
  },
  {
   "cell_type": "code",
   "execution_count": 25,
   "id": "fa225d41",
   "metadata": {},
   "outputs": [
    {
     "ename": "NotImplementedError",
     "evalue": "Multiple modality detected. We do not currently support multi-modality miners.",
     "output_type": "error",
     "traceback": [
      "\u001b[0;31m---------------------------------------------------------------------------\u001b[0m",
      "\u001b[0;31mNotImplementedError\u001b[0m                       Traceback (most recent call last)",
      "\u001b[0;32m/tmp/ipykernel_2104/1512997398.py\u001b[0m in \u001b[0;36m<module>\u001b[0;34m\u001b[0m\n\u001b[0;32m----> 1\u001b[0;31m \u001b[0maxon\u001b[0m \u001b[0;34m=\u001b[0m \u001b[0mbittensor\u001b[0m\u001b[0;34m.\u001b[0m\u001b[0maxon\u001b[0m\u001b[0;34m(\u001b[0m\u001b[0mforward_image\u001b[0m\u001b[0;34m=\u001b[0m\u001b[0mforward\u001b[0m\u001b[0;34m,\u001b[0m\u001b[0mforward_text\u001b[0m\u001b[0;34m=\u001b[0m\u001b[0mforward\u001b[0m\u001b[0;34m)\u001b[0m\u001b[0;34m\u001b[0m\u001b[0;34m\u001b[0m\u001b[0m\n\u001b[0m\u001b[1;32m      2\u001b[0m \u001b[0maxon\u001b[0m\u001b[0;34m.\u001b[0m\u001b[0mstart\u001b[0m\u001b[0;34m(\u001b[0m\u001b[0;34m)\u001b[0m\u001b[0;34m.\u001b[0m\u001b[0msubscribe\u001b[0m\u001b[0;34m(\u001b[0m\u001b[0;34m)\u001b[0m\u001b[0;34m\u001b[0m\u001b[0;34m\u001b[0m\u001b[0m\n",
      "\u001b[0;32m~/.bittensor/bittensor/bittensor/_axon/__init__.py\u001b[0m in \u001b[0;36m__new__\u001b[0;34m(cls, config, wallet, forward_text, backward_text, forward_image, backward_image, forward_tensor, backward_tensor, thread_pool, server, port, ip, max_workers, maximum_concurrent_rpcs, modality)\u001b[0m\n\u001b[1;32m     94\u001b[0m             \u001b[0mip\u001b[0m \u001b[0;34m=\u001b[0m \u001b[0mconfig\u001b[0m\u001b[0;34m.\u001b[0m\u001b[0maxon\u001b[0m\u001b[0;34m.\u001b[0m\u001b[0mip\u001b[0m\u001b[0;34m,\u001b[0m\u001b[0;34m\u001b[0m\u001b[0;34m\u001b[0m\u001b[0m\n\u001b[1;32m     95\u001b[0m             \u001b[0mport\u001b[0m \u001b[0;34m=\u001b[0m \u001b[0mconfig\u001b[0m\u001b[0;34m.\u001b[0m\u001b[0maxon\u001b[0m\u001b[0;34m.\u001b[0m\u001b[0mport\u001b[0m\u001b[0;34m,\u001b[0m\u001b[0;34m\u001b[0m\u001b[0;34m\u001b[0m\u001b[0m\n\u001b[0;32m---> 96\u001b[0;31m             \u001b[0mforwards\u001b[0m \u001b[0;34m=\u001b[0m \u001b[0mforwards\u001b[0m\u001b[0;34m,\u001b[0m\u001b[0;34m\u001b[0m\u001b[0;34m\u001b[0m\u001b[0m\n\u001b[0m\u001b[1;32m     97\u001b[0m             \u001b[0mbackwards\u001b[0m \u001b[0;34m=\u001b[0m \u001b[0mbackwards\u001b[0m\u001b[0;34m,\u001b[0m\u001b[0;34m\u001b[0m\u001b[0;34m\u001b[0m\u001b[0m\n\u001b[1;32m     98\u001b[0m             \u001b[0mmodality\u001b[0m \u001b[0;34m=\u001b[0m \u001b[0mmodality\u001b[0m\u001b[0;34m,\u001b[0m\u001b[0;34m\u001b[0m\u001b[0;34m\u001b[0m\u001b[0m\n",
      "\u001b[0;32m~/.bittensor/bittensor/bittensor/_axon/axon_impl.py\u001b[0m in \u001b[0;36m__init__\u001b[0;34m(self, wallet, ip, port, server, forwards, backwards, modality)\u001b[0m\n\u001b[1;32m     67\u001b[0m         \u001b[0mself\u001b[0m\u001b[0;34m.\u001b[0m\u001b[0mforward_callback\u001b[0m \u001b[0;34m=\u001b[0m \u001b[0mforwards\u001b[0m\u001b[0;34m\u001b[0m\u001b[0;34m\u001b[0m\u001b[0m\n\u001b[1;32m     68\u001b[0m         \u001b[0mself\u001b[0m\u001b[0;34m.\u001b[0m\u001b[0mbackward_callback\u001b[0m \u001b[0;34m=\u001b[0m \u001b[0mbackwards\u001b[0m\u001b[0;34m\u001b[0m\u001b[0;34m\u001b[0m\u001b[0m\n\u001b[0;32m---> 69\u001b[0;31m         \u001b[0mself\u001b[0m\u001b[0;34m.\u001b[0m\u001b[0mmodality\u001b[0m \u001b[0;34m=\u001b[0m \u001b[0mmodality\u001b[0m \u001b[0;32mif\u001b[0m \u001b[0mmodality\u001b[0m \u001b[0;34m!=\u001b[0m \u001b[0;32mNone\u001b[0m \u001b[0;32melse\u001b[0m \u001b[0mself\u001b[0m\u001b[0;34m.\u001b[0m\u001b[0mfind_modality\u001b[0m\u001b[0;34m(\u001b[0m\u001b[0;34m)\u001b[0m\u001b[0;34m\u001b[0m\u001b[0;34m\u001b[0m\u001b[0m\n\u001b[0m\u001b[1;32m     70\u001b[0m         self.stats = SimpleNamespace(\n\u001b[1;32m     71\u001b[0m             \u001b[0mqps\u001b[0m \u001b[0;34m=\u001b[0m \u001b[0mstat_utils\u001b[0m\u001b[0;34m.\u001b[0m\u001b[0mtimed_rolling_avg\u001b[0m\u001b[0;34m(\u001b[0m\u001b[0;36m0.0\u001b[0m\u001b[0;34m,\u001b[0m \u001b[0;36m0.01\u001b[0m\u001b[0;34m)\u001b[0m\u001b[0;34m,\u001b[0m\u001b[0;34m\u001b[0m\u001b[0;34m\u001b[0m\u001b[0m\n",
      "\u001b[0;32m~/.bittensor/bittensor/bittensor/_axon/axon_impl.py\u001b[0m in \u001b[0;36mfind_modality\u001b[0;34m(self)\u001b[0m\n\u001b[1;32m    584\u001b[0m     \u001b[0;32mdef\u001b[0m \u001b[0mfind_modality\u001b[0m\u001b[0;34m(\u001b[0m\u001b[0mself\u001b[0m\u001b[0;34m)\u001b[0m\u001b[0;34m:\u001b[0m\u001b[0;34m\u001b[0m\u001b[0;34m\u001b[0m\u001b[0m\n\u001b[1;32m    585\u001b[0m         r\"\"\" Detects modality from forward callbacks\n\u001b[0;32m--> 586\u001b[0;31m         \"\"\"\n\u001b[0m\u001b[1;32m    587\u001b[0m         \u001b[0mmodality_list\u001b[0m\u001b[0;34m=\u001b[0m \u001b[0;34m[\u001b[0m\u001b[0mindex\u001b[0m \u001b[0;32mfor\u001b[0m \u001b[0mindex\u001b[0m\u001b[0;34m,\u001b[0m \u001b[0mv\u001b[0m \u001b[0;32min\u001b[0m \u001b[0menumerate\u001b[0m\u001b[0;34m(\u001b[0m\u001b[0mself\u001b[0m\u001b[0;34m.\u001b[0m\u001b[0mforward_callback\u001b[0m\u001b[0;34m)\u001b[0m \u001b[0;32mif\u001b[0m \u001b[0mv\u001b[0m \u001b[0;34m!=\u001b[0m \u001b[0;32mNone\u001b[0m\u001b[0;34m]\u001b[0m\u001b[0;34m\u001b[0m\u001b[0;34m\u001b[0m\u001b[0m\n\u001b[1;32m    588\u001b[0m \u001b[0;34m\u001b[0m\u001b[0m\n",
      "\u001b[0;31mNotImplementedError\u001b[0m: Multiple modality detected. We do not currently support multi-modality miners."
     ]
    }
   ],
   "source": [
    "axon = bittensor.axon(forward_image=forward,forward_text=forward)\n",
    "axon.start().subscribe()"
   ]
  },
  {
   "cell_type": "code",
   "execution_count": 28,
   "id": "c79146b9",
   "metadata": {
    "scrolled": true
   },
   "outputs": [
    {
     "data": {
      "text/plain": [
       "'0x8a585df1db05e0d2c3ee5b6dc28e8b2cd408a7efc29269fdc07d3fd50fdda336'"
      ]
     },
     "execution_count": 28,
     "metadata": {},
     "output_type": "execute_result"
    }
   ],
   "source": [
    "axon.wallet.hotkey.public_key"
   ]
  },
  {
   "cell_type": "code",
   "execution_count": 8,
   "id": "2d65101d",
   "metadata": {},
   "outputs": [
    {
     "name": "stderr",
     "output_type": "stream",
     "text": [
      "100%|█████████████████████████████████████████████████████████████████████████████████| 29/29 [00:00<00:00, 7471.89it/s]\n"
     ]
    }
   ],
   "source": [
    "meta.sync()"
   ]
  },
  {
   "cell_type": "code",
   "execution_count": 9,
   "id": "0dc26ed8",
   "metadata": {},
   "outputs": [],
   "source": [
    "input = torch.zeros([1,1])\n",
    "endpoint = meta.endpoints[12]"
   ]
  },
  {
   "cell_type": "code",
   "execution_count": 12,
   "id": "6e22130c",
   "metadata": {},
   "outputs": [
    {
     "name": "stdout",
     "output_type": "stream",
     "text": [
      "\u001b[34m2021-08-11 16:48:32.844\u001b[0m | \u001b[32m    Success     \u001b[0m | Dendrite | Forward  | ---> |      [1, 1]     | 5EXKJ9D3m3EVwABVjxUbG9XmHGtB7WZSSExPuggcsHsZ3f6e | None \n",
      "\u001b[34m2021-08-11 16:48:32.960\u001b[0m | \u001b[32m    Success     \u001b[0m | Dendrite | Forward  | <--- |   [1, 1, 512]   | 5EXKJ9D3m3EVwABVjxUbG9XmHGtB7WZSSExPuggcsHsZ3f6e | None \n"
     ]
    }
   ],
   "source": [
    "response,_ = den.forward_text(\n",
    "    endpoints=endpoint,\n",
    "    inputs=[input.long()])"
   ]
  },
  {
   "cell_type": "code",
   "execution_count": 1,
   "id": "415891c7",
   "metadata": {},
   "outputs": [],
   "source": []
  },
  {
   "cell_type": "code",
   "execution_count": null,
   "id": "d0a07ba4",
   "metadata": {},
   "outputs": [],
   "source": [
    "den.receptor_pool.receptors['5EXKJ9D3m3EVwABVjxUbG9XmHGtB7WZSSExPuggcsHsZ3f6e'].wallet = None"
   ]
  },
  {
   "cell_type": "code",
   "execution_count": null,
   "id": "b6967019",
   "metadata": {},
   "outputs": [],
   "source": [
    "print(endpoint)"
   ]
  },
  {
   "cell_type": "code",
   "execution_count": 2,
   "id": "d15fc1e2",
   "metadata": {},
   "outputs": [
    {
     "name": "stdout",
     "output_type": "stream",
     "text": [
      "1\n"
     ]
    }
   ],
   "source": [
    "import concurrent.futures\n",
    "\n",
    "pool = bittensor.prioritythreadpool(max_workers=1)\n",
    "thread_pool = concurrent.futures.ThreadPoolExecutor(max_workers=1)"
   ]
  },
  {
   "cell_type": "code",
   "execution_count": 3,
   "id": "abdc4f4c",
   "metadata": {},
   "outputs": [],
   "source": [
    "import time\n",
    "#print(pool._work_queue.maxsize)\n",
    "def print_number(number, seconds=3):\n",
    "    print('Start %s' % number)\n",
    "    time.sleep(seconds)\n",
    "    print('Stop %s' % number)"
   ]
  },
  {
   "cell_type": "code",
   "execution_count": 4,
   "id": "f3494d6d",
   "metadata": {},
   "outputs": [
    {
     "name": "stdout",
     "output_type": "stream",
     "text": [
      "-1.0015112200764884\n",
      "Start -1\n",
      "-1.0061217196710435\n",
      "-1.0015390318551016\n",
      "-1.0019127149095903\n",
      "-1.0080184322460668\n",
      "-1.0083572804282315\n",
      "-1.0017544766247481\n",
      "-1.0060212231547545\n",
      "-1.008549682592126\n",
      "-1.0082892445691605\n",
      "Stop -1\n",
      "Start 7\n",
      "Stop 7\n",
      "Start 4\n",
      "Stop 4\n",
      "Start 8\n",
      "Stop 8\n",
      "Start 3\n",
      "Stop 3\n",
      "Start 0\n",
      "Stop 0\n",
      "Start 6\n",
      "Stop 6\n",
      "Start 2\n",
      "Stop 2\n",
      "Start 5\n",
      "Stop 5\n",
      "Start 1\n",
      "Stop 1\n"
     ]
    }
   ],
   "source": [
    "with pool:\n",
    "    for x in range(10):\n",
    "        pool.submit(print_number, x-1,priority=1)\n",
    "        "
   ]
  },
  {
   "cell_type": "code",
   "execution_count": 6,
   "id": "9147983f",
   "metadata": {},
   "outputs": [
    {
     "name": "stdout",
     "output_type": "stream",
     "text": [
      "[-1]\n"
     ]
    }
   ],
   "source": [
    "priority_pool = bittensor.prioritythreadpool(max_workers=1)\n",
    "save = []\n",
    "def save_number(number,save, seconds=3):\n",
    "    save += [number]\n",
    "    time.sleep(seconds)\n",
    "with priority_pool:\n",
    "    for x in range(10):\n",
    "        priority_pool.submit(save_number, x-1,save,priority=x)\n",
    "print(save)"
   ]
  },
  {
   "cell_type": "code",
   "execution_count": 1,
   "id": "ee82d396",
   "metadata": {},
   "outputs": [],
   "source": [
    "import torch.nn.functional as F\n",
    "import torch\n",
    "\n",
    "ran = torch.rand((10,20,1024))"
   ]
  },
  {
   "cell_type": "code",
   "execution_count": 2,
   "id": "ed8663e1",
   "metadata": {},
   "outputs": [
    {
     "name": "stdout",
     "output_type": "stream",
     "text": [
      "\n",
      "axon:\n",
      "  ip: 0\n",
      "  max_workers: 9\n",
      "  maximum_concurrent_rpcs: 400\n",
      "  port: 8091\n",
      "dataset:\n",
      "  batch_size: 10\n",
      "  block_size: 20\n",
      "  data_dir: ~/.bittensor/data/\n",
      "  dataset_name: train\n",
      "  max_corpus_size: 10000.0\n",
      "  num_workers: 0\n",
      "  save_dataset: false\n",
      "dendrite:\n",
      "  max_active_receptors: 500\n",
      "  max_worker_threads: 150\n",
      "  requires_grad: true\n",
      "  timeout: 10\n",
      "logging:\n",
      "  debug: false\n",
      "  logging_dir: ~/.bittensor/miners\n",
      "  record_log: false\n",
      "  trace: false\n",
      "subtensor:\n",
      "  chain_endpoint: akatsuki\n",
      "  network: akatsuki\n",
      "threadpool:\n",
      "  max_workers: 10\n",
      "  maxsize: -1\n",
      "wallet:\n",
      "  email: null\n",
      "  hotkey: default\n",
      "  name: default\n",
      "  path: ~/.bittensor/wallets/\n",
      "wandb:\n",
      "  directory: default\n",
      "  name: default\n",
      "  offline: false\n",
      "  project: default\n",
      "  run_group: default\n",
      "  tags: default\n",
      "\n"
     ]
    }
   ],
   "source": [
    "import bittensor\n",
    "from nuclei.server import server\n",
    "\n",
    "config = server.config()\n",
    "config.axon.ip = 0\n",
    "config.axon.max_workers = 9\n",
    "config.to_defaults()\n",
    "\n",
    "print(bittensor.defaults)"
   ]
  },
  {
   "cell_type": "code",
   "execution_count": 22,
   "id": "30eaf225",
   "metadata": {},
   "outputs": [],
   "source": [
    "from datetime import datetime,timedelta\n",
    "\n",
    "current = datetime.now()"
   ]
  },
  {
   "cell_type": "code",
   "execution_count": 23,
   "id": "4dba88eb",
   "metadata": {},
   "outputs": [
    {
     "data": {
      "text/plain": [
       "datetime.timedelta(seconds=29, microseconds=755243)"
      ]
     },
     "execution_count": 23,
     "metadata": {},
     "output_type": "execute_result"
    }
   ],
   "source": [
    "datetime.now() - current"
   ]
  },
  {
   "cell_type": "code",
   "execution_count": 27,
   "id": "7f933fe0",
   "metadata": {},
   "outputs": [],
   "source": [
    "import torch\n",
    "\n",
    "two = torch.zeros((10,20,5))\n"
   ]
  },
  {
   "cell_type": "code",
   "execution_count": 11,
   "id": "4a802d07",
   "metadata": {},
   "outputs": [
    {
     "name": "stdout",
     "output_type": "stream",
     "text": [
      "\n",
      "axon:\n",
      "  ip: '[::]'\n",
      "  max_workers: 10\n",
      "  maximum_concurrent_rpcs: 400\n",
      "  port: 8091\n",
      "dataset:\n",
      "  batch_size: 10\n",
      "  block_size: 20\n",
      "  data_dir: ~/.bittensor/data/\n",
      "  dataset_name: train\n",
      "  max_corpus_size: 10000.0\n",
      "  num_workers: 0\n",
      "  save_dataset: false\n",
      "logging:\n",
      "  debug: false\n",
      "  logging_dir: ~/.bittensor/miners\n",
      "  record_log: false\n",
      "  trace: false\n",
      "neuron:\n",
      "  api_key: default\n",
      "server:\n",
      "  backward_timeout: 20\n",
      "  blacklist:\n",
      "    stake: 0\n",
      "    time: 10\n",
      "  blocks_per_epoch: 30\n",
      "  checking: true\n",
      "  clip_gradients: 1.0\n",
      "  device: cpu\n",
      "  forward_timeout: 10\n",
      "  inter_degree: nearest\n",
      "  interpolate: true\n",
      "  learning_rate: 0.01\n",
      "  model_name: gpt2\n",
      "  momentum: 0.8\n",
      "  name: template_server\n",
      "  padding: true\n",
      "  pretrained: true\n",
      "  restart: false\n",
      "subtensor:\n",
      "  chain_endpoint: akatsuki\n",
      "  network: akatsuki\n",
      "threadpool:\n",
      "  max_workers: 10\n",
      "  maxsize: -1\n",
      "wallet:\n",
      "  email: null\n",
      "  hotkey: default\n",
      "  name: default\n",
      "  path: ~/.bittensor/wallets/\n",
      "wandb:\n",
      "  directory: default\n",
      "  name: default\n",
      "  offline: false\n",
      "  project: default\n",
      "  run_group: default\n",
      "  tags: default\n",
      "\n"
     ]
    }
   ],
   "source": [
    "from nuclei.server import server\n",
    "gp_server = server()"
   ]
  },
  {
   "cell_type": "code",
   "execution_count": 15,
   "id": "c0ce10da",
   "metadata": {},
   "outputs": [],
   "source": [
    "optimizer = torch.optim.SGD(\n",
    "    [ {\"params\": gp_server.parameters()}], \n",
    "    lr = 0.1)"
   ]
  },
  {
   "cell_type": "code",
   "execution_count": 21,
   "id": "168580f1",
   "metadata": {},
   "outputs": [],
   "source": [
    "samples = 0\n"
   ]
  },
  {
   "cell_type": "code",
   "execution_count": 25,
   "id": "adc852b5",
   "metadata": {},
   "outputs": [],
   "source": [
    "def call():\n",
    "    global samples\n",
    "    samples = samples + 1\n",
    "call()"
   ]
  },
  {
   "cell_type": "code",
   "execution_count": 28,
   "id": "93bb11f6",
   "metadata": {},
   "outputs": [
    {
     "data": {
      "text/plain": [
       "10"
      ]
     },
     "execution_count": 28,
     "metadata": {},
     "output_type": "execute_result"
    }
   ],
   "source": [
    "two.size(0)"
   ]
  },
  {
   "cell_type": "code",
   "execution_count": null,
   "id": "6d117b97",
   "metadata": {},
   "outputs": [],
   "source": []
  }
 ],
 "metadata": {
  "kernelspec": {
   "display_name": "Python 3 (ipykernel)",
   "language": "python",
   "name": "python3"
  },
  "language_info": {
   "codemirror_mode": {
    "name": "ipython",
    "version": 3
   },
   "file_extension": ".py",
   "mimetype": "text/x-python",
   "name": "python",
   "nbconvert_exporter": "python",
   "pygments_lexer": "ipython3",
   "version": "3.8.10"
  }
 },
 "nbformat": 4,
 "nbformat_minor": 5
}
