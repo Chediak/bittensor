{
 "cells": [
  {
   "cell_type": "code",
   "execution_count": 1,
   "id": "2812640e",
   "metadata": {},
   "outputs": [],
   "source": [
    "import bittensor"
   ]
  },
  {
   "cell_type": "code",
   "execution_count": 2,
   "id": "53012d84",
   "metadata": {},
   "outputs": [],
   "source": [
    "meta = bittensor.metagraph().sync()"
   ]
  },
  {
   "cell_type": "code",
   "execution_count": 3,
   "id": "378fab55",
   "metadata": {},
   "outputs": [
    {
     "data": {
      "text/plain": [
       "[Endpoint(/ipv4/99.238.136.56:8091, 0, 5CyCuBZUfcWc1A3S2fHACRNHWmaJdXsGqwvti2zxGRzrM3cm, 5Fuqjivugk1Kb9wJkzyKDc9TdaWRhDoeTyjRquoCntDM5vat),\n",
       " Endpoint(/ipv4/99.238.136.56:9191, 1, 5GhDHUwMXipuSEWYi9kUYQTHADM8Mn5ZqL2bosaeukYrTXp9, 5FsVmCKVDvkUvXR42ckdi9GxmgU8C2zQvKm7Mi62199qfCDt),\n",
       " Endpoint(/ipv4/134.122.119.130:8091, 2, 5EXKJ9D3m3EVwABVjxUbG9XmHGtB7WZSSExPuggcsHsZ3f6e, 5Gpcc7EJDxXTXgmyJUU84x1Nb44GZN69McYTx7UKjJUYo8eS),\n",
       " Endpoint(/ipv4/70.69.22.235:8091, 3, 5FC6iTwsR3oJs4db92uBTjPBs6HuA1H4bPCs6aGbvdLxa88m, 5EvtUHoEKGYJYqBqhNy2uPPZ7fS5Gex8BbnRY4pUZHBLLsGB),\n",
       " Endpoint(/ipv4/157.230.231.158:8091, 4, 5GQwjFpmYm8LXoAYhSDH8zsH1znSdYtmqkauBRb9687BkR35, 5H6ZVm7YKQG7QWLGdKE2kyooGD3ddxUnDPNtMjeJEiZE64ix),\n",
       " Endpoint(/ipv4/157.230.235.68:8091, 5, 5DyCXLzDadLWhcKE7xDmhanpLKA8AKQEhiSiZxEye6JJ7R2F, 5H6ZVm7YKQG7QWLGdKE2kyooGD3ddxUnDPNtMjeJEiZE64ix),\n",
       " Endpoint(/ipv4/157.230.227.198:8091, 6, 5F7NNouEPnEN6vUjxCmNxhuKCY5y7a7GGBfLdEy5fRP1NFq3, 5H6ZVm7YKQG7QWLGdKE2kyooGD3ddxUnDPNtMjeJEiZE64ix),\n",
       " Endpoint(/ipv4/134.209.79.119:8080, 7, 5F1ZJtVosrELoSbAQDiqp4avBRPpW9tzqwMM3BhTKhyGfNug, 5H6ZVm7YKQG7QWLGdKE2kyooGD3ddxUnDPNtMjeJEiZE64ix),\n",
       " Endpoint(/ipv4/157.230.231.146:8080, 8, 5F9tbGe5mfdgyGXdhNWbVf4EoeiTbL3wH2K2RzMLxvdHSdKv, 5H6ZVm7YKQG7QWLGdKE2kyooGD3ddxUnDPNtMjeJEiZE64ix),\n",
       " Endpoint(/ipv4/147.182.130.134:8091, 9, 5CvbaVKZ2VzZRevyFUuuSQhz3KbAtHWBXj26WnvGV79VBRi5, 5FjuBAvbZwAEY1RcmuV94iwD6NuXq5GNcy5fvKLqb417SYDM),\n",
       " Endpoint(/ipv4/74.14.26.249:8080, 10, 5HjU7JXAt3YvJW2UUUBCEYNvx4xHDmunuip4Pu1hn8qTSH6A, 5EePbK7UWGN2yBoFkZReAAyW5bL1bWZtj6gg5LFEtP8yuPen),\n",
       " Endpoint(/ipv4/98.165.215.233:8091, 11, 5FhcrhqoCn1qDfARuuMPuBT79T1wPs4vE1mvD7dV76SZWJy5, 5EkVqUu5HHy2xagMW9jdfcY3ufQosXZKsb5h7xsAdpiByjvg),\n",
       " Endpoint(/ipv4/45.132.225.111:8091, 12, 5FukqDert65P2A7o6AyCn5kGHix2JGmFMfMFEr7riyktYG2k, 5DCu61sLzAjytZJ442QqyZoTfTnu6smbgDZwyKSrpQY8dEDi),\n",
       " Endpoint(/ipv4/206.81.15.120:8080, 13, 5D9qe3CorEqsT2d6jg9F3MpsBsyCJ4FvnUmByHzKQt5sHyNV, 5CPp68c4vhGVWsmaroZopvc3MtTSPvMfJ66vPGLzkerYDm2K),\n",
       " Endpoint(/ipv4/172.58.27.12:1231, 14, 5EZ4mvgFUAAdfPEAk6idW7nTo25SY5V6b57h8UPShNAHTcJD, 5FsVmCKVDvkUvXR42ckdi9GxmgU8C2zQvKm7Mi62199qfCDt),\n",
       " Endpoint(/ipv4/200.106.43.7:8080, 15, 5EkF63UTYSFsk8gRRi4cHPN56CV6XcD2GsdnLSzsYmFH4kKq, 5GRfTDpPckkUWCsBFq5rwvhTHDTWZfcyBJC5x69KYzSsA7ws),\n",
       " Endpoint(/ipv4/107.181.177.180:8091, 16, 5DCicUgmvYGYcmn6DhfQU1vd33SzLPn7UDKNMPpgvY3WTjNn, 5Fk4CjoxZtCGw2EwASaFRnMLqMCdgGD3jgwxZwCyAoT95ksa),\n",
       " Endpoint(/ipv4/174.193.128.177:8091, 17, 5H1Dm4yEDdWTcCf9he2bMcttyCWLeKUnCNipMArM1xHwbXyi, 5CRxzmHv5ay83ZTuDdAKRd4jNbzUg5N3ELap86LhdmfSaDL9)]"
      ]
     },
     "execution_count": 3,
     "metadata": {},
     "output_type": "execute_result"
    }
   ],
   "source": [
    "meta._endpoint_objs"
   ]
  },
  {
   "cell_type": "code",
   "execution_count": 4,
   "id": "ad4bacc9",
   "metadata": {},
   "outputs": [],
   "source": [
    "for tensor in meta.endpoints:\n",
    "    try:\n",
    "        obj = bittensor.endpoint.from_tensor( tensor )\n",
    "    except Exception:\n",
    "        obj = None\n",
    "    meta._endpoint_objs.append( obj )\n"
   ]
  },
  {
   "cell_type": "code",
   "execution_count": 5,
   "id": "5e1ce7c6",
   "metadata": {},
   "outputs": [
    {
     "ename": "AttributeError",
     "evalue": "'str' object has no attribute 'version'",
     "output_type": "error",
     "traceback": [
      "\u001b[0;31m---------------------------------------------------------------------------\u001b[0m",
      "\u001b[0;31mAttributeError\u001b[0m                            Traceback (most recent call last)",
      "\u001b[0;32m/tmp/ipykernel_13056/3095185291.py\u001b[0m in \u001b[0;36m<module>\u001b[0;34m\u001b[0m\n\u001b[0;32m----> 1\u001b[0;31m \u001b[0;34m[\u001b[0m \u001b[0mneuron\u001b[0m\u001b[0;34m.\u001b[0m\u001b[0mhotkey\u001b[0m \u001b[0;32mif\u001b[0m \u001b[0mneuron\u001b[0m\u001b[0;34m.\u001b[0m\u001b[0mhotkey\u001b[0m \u001b[0;34m!=\u001b[0m \u001b[0mbittensor\u001b[0m\u001b[0;34m.\u001b[0m\u001b[0mendpoint\u001b[0m\u001b[0;34m.\u001b[0m\u001b[0mdummy\u001b[0m\u001b[0;34m(\u001b[0m\u001b[0;34m)\u001b[0m \u001b[0;32melse\u001b[0m \u001b[0;34m''\u001b[0m \u001b[0;32mfor\u001b[0m \u001b[0mneuron\u001b[0m \u001b[0;32min\u001b[0m \u001b[0mmeta\u001b[0m\u001b[0;34m.\u001b[0m\u001b[0mendpoint_objs\u001b[0m \u001b[0;34m]\u001b[0m\u001b[0;34m\u001b[0m\u001b[0;34m\u001b[0m\u001b[0m\n\u001b[0m",
      "\u001b[0;32m/tmp/ipykernel_13056/3095185291.py\u001b[0m in \u001b[0;36m<listcomp>\u001b[0;34m(.0)\u001b[0m\n\u001b[0;32m----> 1\u001b[0;31m \u001b[0;34m[\u001b[0m \u001b[0mneuron\u001b[0m\u001b[0;34m.\u001b[0m\u001b[0mhotkey\u001b[0m \u001b[0;32mif\u001b[0m \u001b[0mneuron\u001b[0m\u001b[0;34m.\u001b[0m\u001b[0mhotkey\u001b[0m \u001b[0;34m!=\u001b[0m \u001b[0mbittensor\u001b[0m\u001b[0;34m.\u001b[0m\u001b[0mendpoint\u001b[0m\u001b[0;34m.\u001b[0m\u001b[0mdummy\u001b[0m\u001b[0;34m(\u001b[0m\u001b[0;34m)\u001b[0m \u001b[0;32melse\u001b[0m \u001b[0;34m''\u001b[0m \u001b[0;32mfor\u001b[0m \u001b[0mneuron\u001b[0m \u001b[0;32min\u001b[0m \u001b[0mmeta\u001b[0m\u001b[0;34m.\u001b[0m\u001b[0mendpoint_objs\u001b[0m \u001b[0;34m]\u001b[0m\u001b[0;34m\u001b[0m\u001b[0;34m\u001b[0m\u001b[0m\n\u001b[0m",
      "\u001b[0;32m~/.bittensor/bittensor/bittensor/_endpoint/endpoint_impl.py\u001b[0m in \u001b[0;36m__eq__\u001b[0;34m(self, other)\u001b[0m\n\u001b[1;32m    132\u001b[0m \u001b[0;34m\u001b[0m\u001b[0m\n\u001b[1;32m    133\u001b[0m     \u001b[0;32mdef\u001b[0m \u001b[0m__eq__\u001b[0m \u001b[0;34m(\u001b[0m\u001b[0mself\u001b[0m\u001b[0;34m,\u001b[0m \u001b[0mother\u001b[0m\u001b[0;34m:\u001b[0m \u001b[0;34m'Endpoint'\u001b[0m\u001b[0;34m)\u001b[0m\u001b[0;34m:\u001b[0m\u001b[0;34m\u001b[0m\u001b[0;34m\u001b[0m\u001b[0m\n\u001b[0;32m--> 134\u001b[0;31m         \u001b[0;32mif\u001b[0m \u001b[0mself\u001b[0m\u001b[0;34m.\u001b[0m\u001b[0mversion\u001b[0m \u001b[0;34m==\u001b[0m \u001b[0mother\u001b[0m\u001b[0;34m.\u001b[0m\u001b[0mversion\u001b[0m \u001b[0;32mand\u001b[0m \u001b[0mself\u001b[0m\u001b[0;34m.\u001b[0m\u001b[0muid\u001b[0m \u001b[0;34m==\u001b[0m \u001b[0mother\u001b[0m\u001b[0;34m.\u001b[0m\u001b[0muid\u001b[0m \u001b[0;32mand\u001b[0m \u001b[0mself\u001b[0m\u001b[0;34m.\u001b[0m\u001b[0mip\u001b[0m \u001b[0;34m==\u001b[0m \u001b[0mother\u001b[0m\u001b[0;34m.\u001b[0m\u001b[0mip\u001b[0m \u001b[0;32mand\u001b[0m \u001b[0mself\u001b[0m\u001b[0;34m.\u001b[0m\u001b[0mport\u001b[0m \u001b[0;34m==\u001b[0m \u001b[0mother\u001b[0m\u001b[0;34m.\u001b[0m\u001b[0mport\u001b[0m \u001b[0;32mand\u001b[0m \u001b[0mself\u001b[0m\u001b[0;34m.\u001b[0m\u001b[0mip_type\u001b[0m \u001b[0;34m==\u001b[0m \u001b[0mother\u001b[0m\u001b[0;34m.\u001b[0m\u001b[0mip_type\u001b[0m \u001b[0;32mand\u001b[0m  \u001b[0mself\u001b[0m\u001b[0;34m.\u001b[0m\u001b[0mcoldkey\u001b[0m \u001b[0;34m==\u001b[0m \u001b[0mother\u001b[0m\u001b[0;34m.\u001b[0m\u001b[0mcoldkey\u001b[0m \u001b[0;32mand\u001b[0m \u001b[0mself\u001b[0m\u001b[0;34m.\u001b[0m\u001b[0mhotkey\u001b[0m \u001b[0;34m==\u001b[0m \u001b[0mother\u001b[0m\u001b[0;34m.\u001b[0m\u001b[0mhotkey\u001b[0m \u001b[0;32mand\u001b[0m \u001b[0mself\u001b[0m\u001b[0;34m.\u001b[0m\u001b[0mmodality\u001b[0m \u001b[0;34m==\u001b[0m \u001b[0mother\u001b[0m\u001b[0;34m.\u001b[0m\u001b[0mmodality\u001b[0m\u001b[0;34m:\u001b[0m\u001b[0;34m\u001b[0m\u001b[0;34m\u001b[0m\u001b[0m\n\u001b[0m\u001b[1;32m    135\u001b[0m             \u001b[0;32mreturn\u001b[0m \u001b[0;32mTrue\u001b[0m\u001b[0;34m\u001b[0m\u001b[0;34m\u001b[0m\u001b[0m\n\u001b[1;32m    136\u001b[0m         \u001b[0;32melse\u001b[0m\u001b[0;34m:\u001b[0m\u001b[0;34m\u001b[0m\u001b[0;34m\u001b[0m\u001b[0m\n",
      "\u001b[0;31mAttributeError\u001b[0m: 'str' object has no attribute 'version'"
     ]
    }
   ],
   "source": [
    "[ neuron.hotkey if neuron.hotkey != bittensor.endpoint.dummy() else '' for neuron in meta.endpoint_objs ]"
   ]
  },
  {
   "cell_type": "code",
   "execution_count": 14,
   "id": "c908fc2f",
   "metadata": {},
   "outputs": [],
   "source": [
    "import torch\n",
    "import numpy"
   ]
  },
  {
   "cell_type": "code",
   "execution_count": 19,
   "id": "0da2699f",
   "metadata": {},
   "outputs": [],
   "source": [
    "zero= numpy.zeros((10,0))"
   ]
  },
  {
   "cell_type": "code",
   "execution_count": 20,
   "id": "0c811927",
   "metadata": {},
   "outputs": [
    {
     "data": {
      "text/plain": [
       "[10, 0]"
      ]
     },
     "execution_count": 20,
     "metadata": {},
     "output_type": "execute_result"
    }
   ],
   "source": [
    "list(zero.shape)"
   ]
  },
  {
   "cell_type": "code",
   "execution_count": 15,
   "id": "b6d0aa11",
   "metadata": {},
   "outputs": [
    {
     "data": {
      "text/plain": [
       "True"
      ]
     },
     "execution_count": 15,
     "metadata": {},
     "output_type": "execute_result"
    }
   ],
   "source": [
    "torch.ones((10,3,1)).size() != zero.size()"
   ]
  },
  {
   "cell_type": "code",
   "execution_count": 2,
   "id": "3152ff25",
   "metadata": {},
   "outputs": [],
   "source": [
    "sub = bittensor.subtensor()\n",
    "neurons = sub.neurons()\n",
    "neuron = neurons[ 0 ]"
   ]
  },
  {
   "cell_type": "code",
   "execution_count": 3,
   "id": "16741150",
   "metadata": {},
   "outputs": [],
   "source": [
    "subtensor = bittensor.subtensor()\n",
    "balance= subtensor.get_balances()\n"
   ]
  },
  {
   "cell_type": "code",
   "execution_count": 4,
   "id": "2618506e",
   "metadata": {},
   "outputs": [
    {
     "data": {
      "text/plain": [
       "{'5EkF63UTYSFsk8gRRi4cHPN56CV6XcD2GsdnLSzsYmFH4kKq': τ0.0,\n",
       " '5EXKJ9D3m3EVwABVjxUbG9XmHGtB7WZSSExPuggcsHsZ3f6e': τ0.0,\n",
       " '5F9tbGe5mfdgyGXdhNWbVf4EoeiTbL3wH2K2RzMLxvdHSdKv': τ0.0,\n",
       " '5DCicUgmvYGYcmn6DhfQU1vd33SzLPn7UDKNMPpgvY3WTjNn': τ0.0,\n",
       " '5FukqDert65P2A7o6AyCn5kGHix2JGmFMfMFEr7riyktYG2k': τ0.0,\n",
       " '5FC6iTwsR3oJs4db92uBTjPBs6HuA1H4bPCs6aGbvdLxa88m': τ0.0,\n",
       " '5CJQgj9Q36t7yBpAZh8BDuC6VuArVjavb2C5Hdjk6HpHa4Vx': τ0.0,\n",
       " '5DyCXLzDadLWhcKE7xDmhanpLKA8AKQEhiSiZxEye6JJ7R2F': τ0.0,\n",
       " '5FPBwhymaMGw6NmDZ1WbFEv553xrpZqDkn6TWpxaVPqAVPDp': τ0.0,\n",
       " '5DWtTNZnVeFmtJvYMxs7wamsyNabXoJJV46gF1bNoTRbiXgh': τ0.0,\n",
       " '5GhDHUwMXipuSEWYi9kUYQTHADM8Mn5ZqL2bosaeukYrTXp9': τ0.0,\n",
       " '5F1ZJtVosrELoSbAQDiqp4avBRPpW9tzqwMM3BhTKhyGfNug': τ0.0,\n",
       " '5EWfYQmG77x6RMj6hYQUsVKiozXLf8FT5HFEQ2W5Wq4XP9MB': τ0.0,\n",
       " '5CvbaVKZ2VzZRevyFUuuSQhz3KbAtHWBXj26WnvGV79VBRi5': τ0.0,\n",
       " '5H1Dm4yEDdWTcCf9he2bMcttyCWLeKUnCNipMArM1xHwbXyi': τ0.0,\n",
       " '5HjU7JXAt3YvJW2UUUBCEYNvx4xHDmunuip4Pu1hn8qTSH6A': τ0.0,\n",
       " '5FsVmCKVDvkUvXR42ckdi9GxmgU8C2zQvKm7Mi62199qfCDt': τ1152921504.606847,\n",
       " '5GQwjFpmYm8LXoAYhSDH8zsH1znSdYtmqkauBRb9687BkR35': τ0.0,\n",
       " '5FhcrhqoCn1qDfARuuMPuBT79T1wPs4vE1mvD7dV76SZWJy5': τ0.0,\n",
       " '5F7NNouEPnEN6vUjxCmNxhuKCY5y7a7GGBfLdEy5fRP1NFq3': τ0.0,\n",
       " '5D9qe3CorEqsT2d6jg9F3MpsBsyCJ4FvnUmByHzKQt5sHyNV': τ0.0,\n",
       " '5EZ4mvgFUAAdfPEAk6idW7nTo25SY5V6b57h8UPShNAHTcJD': τ0.0,\n",
       " '5CyCuBZUfcWc1A3S2fHACRNHWmaJdXsGqwvti2zxGRzrM3cm': τ0.0}"
      ]
     },
     "execution_count": 4,
     "metadata": {},
     "output_type": "execute_result"
    }
   ],
   "source": [
    "balance"
   ]
  },
  {
   "cell_type": "code",
   "execution_count": 7,
   "id": "b6dd5812",
   "metadata": {},
   "outputs": [
    {
     "name": "stdout",
     "output_type": "stream",
     "text": [
      "τ0.0\n",
      "τ0.0\n",
      "τ0.0\n",
      "τ0.0\n",
      "τ0.0\n",
      "τ0.0\n",
      "τ0.0\n",
      "τ0.0\n",
      "τ0.0\n",
      "τ0.0\n",
      "τ0.0\n",
      "τ0.0\n",
      "τ0.0\n",
      "τ0.0\n",
      "τ0.0\n",
      "τ0.0\n",
      "τ1152921504.606847\n",
      "τ0.0\n",
      "τ0.0\n",
      "τ0.0\n",
      "τ0.0\n",
      "τ0.0\n",
      "τ0.0\n"
     ]
    }
   ],
   "source": [
    "return_dict = {}\n",
    "\n",
    "for r in balance:\n",
    "    print(balance[r])\n"
   ]
  },
  {
   "cell_type": "code",
   "execution_count": 22,
   "id": "c294d16d",
   "metadata": {},
   "outputs": [
    {
     "data": {
      "text/plain": [
       "namespace(version=140,\n",
       "          ip='99.238.136.56',\n",
       "          port=8091,\n",
       "          ip_type=4,\n",
       "          uid=0,\n",
       "          modality=0,\n",
       "          hotkey='5CyCuBZUfcWc1A3S2fHACRNHWmaJdXsGqwvti2zxGRzrM3cm',\n",
       "          coldkey='5Fuqjivugk1Kb9wJkzyKDc9TdaWRhDoeTyjRquoCntDM5vat',\n",
       "          active=0,\n",
       "          last_update=1680,\n",
       "          stake=0,\n",
       "          rank=0,\n",
       "          trust=0,\n",
       "          consensus=0,\n",
       "          incentive=0,\n",
       "          inflation=0,\n",
       "          dividends=0,\n",
       "          bonds=[],\n",
       "          weights=[(11, 831287063),\n",
       "                   (10, 762012954),\n",
       "                   (9, 484915048),\n",
       "                   (6, 346367535),\n",
       "                   (4, 346367535),\n",
       "                   (5, 346367535),\n",
       "                   (8, 346367535),\n",
       "                   (7, 346367535),\n",
       "                   (3, 277094034),\n",
       "                   (2, 207820517),\n",
       "                   (0, 4)],\n",
       "          is_null=True)"
      ]
     },
     "execution_count": 22,
     "metadata": {},
     "output_type": "execute_result"
    }
   ],
   "source": [
    "sub.neuron_for_pubkey('5FsVmCKVDvkUvXR42ckdi9GxmgU8C2zQvKm7Mi62199qfCDt')"
   ]
  },
  {
   "cell_type": "code",
   "execution_count": 2,
   "id": "f8a8b4a9",
   "metadata": {},
   "outputs": [],
   "source": [
    "ls = [   \n",
    "]"
   ]
  },
  {
   "cell_type": "code",
   "execution_count": 7,
   "id": "40276306",
   "metadata": {},
   "outputs": [],
   "source": [
    "ls = [1] * 10"
   ]
  },
  {
   "cell_type": "code",
   "execution_count": 8,
   "id": "032a5552",
   "metadata": {},
   "outputs": [
    {
     "data": {
      "text/plain": [
       "[1, 1, 1, 1, 1, 1, 1, 1, 1, 1]"
      ]
     },
     "execution_count": 8,
     "metadata": {},
     "output_type": "execute_result"
    }
   ],
   "source": [
    "ls"
   ]
  },
  {
   "cell_type": "code",
   "execution_count": null,
   "id": "9d452a2c",
   "metadata": {},
   "outputs": [],
   "source": []
  }
 ],
 "metadata": {
  "kernelspec": {
   "display_name": "Python 3 (ipykernel)",
   "language": "python",
   "name": "python3"
  },
  "language_info": {
   "codemirror_mode": {
    "name": "ipython",
    "version": 3
   },
   "file_extension": ".py",
   "mimetype": "text/x-python",
   "name": "python",
   "nbconvert_exporter": "python",
   "pygments_lexer": "ipython3",
   "version": "3.8.10"
  }
 },
 "nbformat": 4,
 "nbformat_minor": 5
}
