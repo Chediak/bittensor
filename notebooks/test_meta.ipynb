{
 "cells": [
  {
   "cell_type": "code",
   "execution_count": 1,
   "id": "6878838b",
   "metadata": {},
   "outputs": [],
   "source": [
    "import bittensor"
   ]
  },
  {
   "cell_type": "code",
   "execution_count": 2,
   "id": "2dde44f9",
   "metadata": {},
   "outputs": [],
   "source": [
    "wallet = bittensor.wallet()\n",
    "axon  = bittensor.axon(wallet=wallet)"
   ]
  },
  {
   "cell_type": "code",
   "execution_count": 6,
   "id": "8bcb8aa8",
   "metadata": {},
   "outputs": [
    {
     "name": "stdout",
     "output_type": "stream",
     "text": [
      "\u001b[34m2021-09-15 14:40:21.717\u001b[0m | \u001b[32m\u001b[1m    SUCCESS     \u001b[0m | External IP:        \u001b[34m70.69.22.235\u001b[0m\n",
      "\u001b[34m2021-09-15 14:40:41.746\u001b[0m | \u001b[32m\u001b[1m    SUCCESS     \u001b[0m | Subscribed:         \u001b[34mip: 70.69.22.235, port: 8091, modality: 0, hotkey: 0x8a585df1db05e0d2c3ee5b6dc28e8b2cd408a7efc29269fdc07d3fd50fdda336, coldkey: 0x7ebe77b441d388648d13664e561983bb7168a3d13379bc4c7ded667685b62073\u001b[0m\n"
     ]
    },
    {
     "data": {
      "text/plain": [
       "Axon([::], 8091, 5FC6iTwsR3oJs4db92uBTjPBs6HuA1H4bPCs6aGbvdLxa88m, started)"
      ]
     },
     "execution_count": 6,
     "metadata": {},
     "output_type": "execute_result"
    }
   ],
   "source": [
    "axon.subscribe()"
   ]
  },
  {
   "cell_type": "code",
   "execution_count": 2,
   "id": "7c7c135d",
   "metadata": {},
   "outputs": [
    {
     "ename": "StorageFunctionNotFound",
     "evalue": "Storage function \"SubtensorModule.N\" not found",
     "output_type": "error",
     "traceback": [
      "\u001b[0;31m---------------------------------------------------------------------------\u001b[0m",
      "\u001b[0;31mStorageFunctionNotFound\u001b[0m                   Traceback (most recent call last)",
      "\u001b[0;32m/tmp/ipykernel_4006/858038475.py\u001b[0m in \u001b[0;36m<module>\u001b[0;34m\u001b[0m\n\u001b[0;32m----> 1\u001b[0;31m \u001b[0mmeta\u001b[0m \u001b[0;34m=\u001b[0m \u001b[0mbittensor\u001b[0m\u001b[0;34m.\u001b[0m\u001b[0mmetagraph\u001b[0m\u001b[0;34m(\u001b[0m\u001b[0;34m)\u001b[0m\u001b[0;34m.\u001b[0m\u001b[0msync\u001b[0m\u001b[0;34m(\u001b[0m\u001b[0;34m)\u001b[0m\u001b[0;34m\u001b[0m\u001b[0;34m\u001b[0m\u001b[0m\n\u001b[0m",
      "\u001b[0;32m~/.bittensor/bittensor/bittensor/_metagraph/metagraph_impl.py\u001b[0m in \u001b[0;36msync\u001b[0;34m(self, block)\u001b[0m\n\u001b[1;32m    260\u001b[0m         \u001b[0;32mif\u001b[0m \u001b[0mblock\u001b[0m \u001b[0;34m==\u001b[0m \u001b[0;32mNone\u001b[0m\u001b[0;34m:\u001b[0m\u001b[0;34m\u001b[0m\u001b[0;34m\u001b[0m\u001b[0m\n\u001b[1;32m    261\u001b[0m             \u001b[0mblock\u001b[0m \u001b[0;34m=\u001b[0m \u001b[0mself\u001b[0m\u001b[0;34m.\u001b[0m\u001b[0msubtensor\u001b[0m\u001b[0;34m.\u001b[0m\u001b[0mget_current_block\u001b[0m\u001b[0;34m(\u001b[0m\u001b[0;34m)\u001b[0m\u001b[0;34m\u001b[0m\u001b[0;34m\u001b[0m\u001b[0m\n\u001b[0;32m--> 262\u001b[0;31m             \u001b[0mn_total\u001b[0m \u001b[0;34m=\u001b[0m \u001b[0mself\u001b[0m\u001b[0;34m.\u001b[0m\u001b[0msubtensor\u001b[0m\u001b[0;34m.\u001b[0m\u001b[0mget_n\u001b[0m\u001b[0;34m(\u001b[0m \u001b[0;34m)\u001b[0m\u001b[0;34m\u001b[0m\u001b[0;34m\u001b[0m\u001b[0m\n\u001b[0m\u001b[1;32m    263\u001b[0m             \u001b[0mneurons\u001b[0m \u001b[0;34m=\u001b[0m \u001b[0mself\u001b[0m\u001b[0;34m.\u001b[0m\u001b[0msubtensor\u001b[0m\u001b[0;34m.\u001b[0m\u001b[0mneurons\u001b[0m\u001b[0;34m(\u001b[0m\u001b[0;34m)\u001b[0m\u001b[0;34m\u001b[0m\u001b[0;34m\u001b[0m\u001b[0m\n\u001b[1;32m    264\u001b[0m         \u001b[0;32melse\u001b[0m\u001b[0;34m:\u001b[0m\u001b[0;34m\u001b[0m\u001b[0;34m\u001b[0m\u001b[0m\n",
      "\u001b[0;32m~/.bittensor/bittensor/bittensor/_subtensor/subtensor_impl.py\u001b[0m in \u001b[0;36mget_n\u001b[0;34m(self, block)\u001b[0m\n\u001b[1;32m    607\u001b[0m         \"\"\"\n\u001b[1;32m    608\u001b[0m         \u001b[0;32mwith\u001b[0m \u001b[0mself\u001b[0m\u001b[0;34m.\u001b[0m\u001b[0msubstrate\u001b[0m \u001b[0;32mas\u001b[0m \u001b[0msubstrate\u001b[0m\u001b[0;34m:\u001b[0m\u001b[0;34m\u001b[0m\u001b[0;34m\u001b[0m\u001b[0m\n\u001b[0;32m--> 609\u001b[0;31m             \u001b[0;32mreturn\u001b[0m \u001b[0mint\u001b[0m\u001b[0;34m(\u001b[0m\u001b[0msubstrate\u001b[0m\u001b[0;34m.\u001b[0m\u001b[0mquery\u001b[0m\u001b[0;34m(\u001b[0m  \u001b[0mmodule\u001b[0m\u001b[0;34m=\u001b[0m\u001b[0;34m'SubtensorModule'\u001b[0m\u001b[0;34m,\u001b[0m \u001b[0mstorage_function\u001b[0m \u001b[0;34m=\u001b[0m \u001b[0;34m'N'\u001b[0m \u001b[0;34m)\u001b[0m\u001b[0;34m.\u001b[0m\u001b[0mvalue\u001b[0m\u001b[0;34m)\u001b[0m\u001b[0;34m\u001b[0m\u001b[0;34m\u001b[0m\u001b[0m\n\u001b[0m\u001b[1;32m    610\u001b[0m \u001b[0;34m\u001b[0m\u001b[0m\n\u001b[1;32m    611\u001b[0m     \u001b[0;32mdef\u001b[0m \u001b[0mneuron_for_wallet\u001b[0m\u001b[0;34m(\u001b[0m \u001b[0mself\u001b[0m\u001b[0;34m,\u001b[0m \u001b[0mwallet\u001b[0m\u001b[0;34m:\u001b[0m \u001b[0;34m'bittensor.Wallet'\u001b[0m\u001b[0;34m,\u001b[0m \u001b[0mblock\u001b[0m\u001b[0;34m:\u001b[0m \u001b[0mint\u001b[0m \u001b[0;34m=\u001b[0m \u001b[0;32mNone\u001b[0m \u001b[0;34m)\u001b[0m \u001b[0;34m->\u001b[0m \u001b[0mSimpleNamespace\u001b[0m\u001b[0;34m:\u001b[0m\u001b[0;34m\u001b[0m\u001b[0;34m\u001b[0m\u001b[0m\n",
      "\u001b[0;32m~/.bittensor/env/lib/python3.8/site-packages/substrateinterface/base.py\u001b[0m in \u001b[0;36mquery\u001b[0;34m(self, module, storage_function, params, block_hash, subscription_handler)\u001b[0m\n\u001b[1;32m   1389\u001b[0m \u001b[0;34m\u001b[0m\u001b[0m\n\u001b[1;32m   1390\u001b[0m         \u001b[0;32mif\u001b[0m \u001b[0;32mnot\u001b[0m \u001b[0mmetadata_module\u001b[0m \u001b[0;32mor\u001b[0m \u001b[0;32mnot\u001b[0m \u001b[0mstorage_item\u001b[0m\u001b[0;34m:\u001b[0m\u001b[0;34m\u001b[0m\u001b[0;34m\u001b[0m\u001b[0m\n\u001b[0;32m-> 1391\u001b[0;31m             \u001b[0;32mraise\u001b[0m \u001b[0mStorageFunctionNotFound\u001b[0m\u001b[0;34m(\u001b[0m\u001b[0;34m'Storage function \"{}.{}\" not found'\u001b[0m\u001b[0;34m.\u001b[0m\u001b[0mformat\u001b[0m\u001b[0;34m(\u001b[0m\u001b[0mmodule\u001b[0m\u001b[0;34m,\u001b[0m \u001b[0mstorage_function\u001b[0m\u001b[0;34m)\u001b[0m\u001b[0;34m)\u001b[0m\u001b[0;34m\u001b[0m\u001b[0;34m\u001b[0m\u001b[0m\n\u001b[0m\u001b[1;32m   1392\u001b[0m \u001b[0;34m\u001b[0m\u001b[0m\n\u001b[1;32m   1393\u001b[0m         \u001b[0;31m# Process specific type of storage function\u001b[0m\u001b[0;34m\u001b[0m\u001b[0;34m\u001b[0m\u001b[0;34m\u001b[0m\u001b[0m\n",
      "\u001b[0;31mStorageFunctionNotFound\u001b[0m: Storage function \"SubtensorModule.N\" not found"
     ]
    }
   ],
   "source": [
    "meta = bittensor.metagraph().sync()"
   ]
  },
  {
   "cell_type": "code",
   "execution_count": 13,
   "id": "ee6b19f7",
   "metadata": {},
   "outputs": [],
   "source": [
    "neurons = meta.subtensor.neurons()"
   ]
  },
  {
   "cell_type": "code",
   "execution_count": 14,
   "id": "e678f2d0",
   "metadata": {},
   "outputs": [
    {
     "name": "stdout",
     "output_type": "stream",
     "text": [
      "False\n",
      "-1\n",
      "False\n",
      "1\n",
      "False\n",
      "2\n",
      "False\n",
      "3\n",
      "False\n",
      "4\n",
      "False\n",
      "5\n",
      "False\n",
      "6\n",
      "False\n",
      "7\n"
     ]
    }
   ],
   "source": [
    "for end in meta.endpoints:\n",
    "    print(end.sum().item()==-1)\n",
    "    print(bittensor.endpoint.from_tensor( end ).uid)\n"
   ]
  },
  {
   "cell_type": "code",
   "execution_count": 15,
   "id": "6de0bc75",
   "metadata": {},
   "outputs": [
    {
     "name": "stdout",
     "output_type": "stream",
     "text": [
      "Parameter containing:\n",
      "tensor([0, 0, 0, 1, 1, 1, 1, 1])\n",
      "808143\n",
      "namespace(active=0, bonds=[], coldkey='5GQjcQzJazPnDALWof26bHLakVD1SM3RGZhyCTVttLAWt1ZE', consensus=0, dividends=0, hotkey='5EXWsRUQ96YSgRX39JddmsXX35mQXJoCPcz8NJSusY258fs3', incentive=0, inflation=0, ip=3232235529, ip_type=4, is_null=False, last_update=781007, modality=0, port=9919, rank=0, stake=0, trust=0, uid=1, version=140, weights=[(1, 4294967295)])\n",
      "namespace(active=0, bonds=[], coldkey='5EvtUHoEKGYJYqBqhNy2uPPZ7fS5Gex8BbnRY4pUZHBLLsGB', consensus=0, dividends=0, hotkey='5FC6iTwsR3oJs4db92uBTjPBs6HuA1H4bPCs6aGbvdLxa88m', incentive=0, inflation=0, ip=1178932971, ip_type=4, is_null=False, last_update=794249, modality=0, port=8091, rank=0, stake=0, trust=0, uid=2, version=140, weights=[])\n",
      "namespace(active=1, bonds=[], coldkey='5H6ZVm7YKQG7QWLGdKE2kyooGD3ddxUnDPNtMjeJEiZE64ix', consensus=0, dividends=0, hotkey='5F1ZJtVosrELoSbAQDiqp4avBRPpW9tzqwMM3BhTKhyGfNug', incentive=0, inflation=0, ip=2261864311, ip_type=4, is_null=False, last_update=808036, modality=0, port=8091, rank=0, stake=0, trust=0, uid=3, version=140, weights=[(6, 915847487), (4, 865412095), (7, 861560255), (3, 852239487), (5, 799907967), (2, 4)])\n",
      "namespace(active=1, bonds=[], coldkey='5H6ZVm7YKQG7QWLGdKE2kyooGD3ddxUnDPNtMjeJEiZE64ix', consensus=0, dividends=0, hotkey='5GQwjFpmYm8LXoAYhSDH8zsH1znSdYtmqkauBRb9687BkR35', incentive=0, inflation=0, ip=2649155486, ip_type=4, is_null=False, last_update=808036, modality=0, port=8091, rank=0, stake=0, trust=0, uid=4, version=140, weights=[(4, 4294967295)])\n",
      "namespace(active=1, bonds=[], coldkey='5H6ZVm7YKQG7QWLGdKE2kyooGD3ddxUnDPNtMjeJEiZE64ix', consensus=0, dividends=0, hotkey='5F9tbGe5mfdgyGXdhNWbVf4EoeiTbL3wH2K2RzMLxvdHSdKv', incentive=0, inflation=0, ip=2649155474, ip_type=4, is_null=False, last_update=808036, modality=0, port=8091, rank=0, stake=0, trust=0, uid=5, version=140, weights=[(5, 4294967295)])\n",
      "namespace(active=1, bonds=[], coldkey='5H6ZVm7YKQG7QWLGdKE2kyooGD3ddxUnDPNtMjeJEiZE64ix', consensus=0, dividends=0, hotkey='5DyCXLzDadLWhcKE7xDmhanpLKA8AKQEhiSiZxEye6JJ7R2F', incentive=0, inflation=0, ip=2649156420, ip_type=4, is_null=False, last_update=808036, modality=0, port=8091, rank=0, stake=0, trust=0, uid=6, version=140, weights=[(6, 4294967295)])\n",
      "namespace(active=1, bonds=[], coldkey='5H6ZVm7YKQG7QWLGdKE2kyooGD3ddxUnDPNtMjeJEiZE64ix', consensus=0, dividends=0, hotkey='5F7NNouEPnEN6vUjxCmNxhuKCY5y7a7GGBfLdEy5fRP1NFq3', incentive=0, inflation=0, ip=2649154502, ip_type=4, is_null=False, last_update=808036, modality=0, port=8091, rank=0, stake=0, trust=0, uid=7, version=140, weights=[(7, 4294967295)])\n"
     ]
    }
   ],
   "source": [
    "print(meta.active)\n",
    "print(meta.subtensor.get_current_block())\n",
    "for i in neurons:\n",
    "    print(i)"
   ]
  },
  {
   "cell_type": "code",
   "execution_count": null,
   "id": "c6b23f83",
   "metadata": {},
   "outputs": [],
   "source": []
  }
 ],
 "metadata": {
  "kernelspec": {
   "display_name": "Python 3 (ipykernel)",
   "language": "python",
   "name": "python3"
  },
  "language_info": {
   "codemirror_mode": {
    "name": "ipython",
    "version": 3
   },
   "file_extension": ".py",
   "mimetype": "text/x-python",
   "name": "python",
   "nbconvert_exporter": "python",
   "pygments_lexer": "ipython3",
   "version": "3.8.10"
  }
 },
 "nbformat": 4,
 "nbformat_minor": 5
}
