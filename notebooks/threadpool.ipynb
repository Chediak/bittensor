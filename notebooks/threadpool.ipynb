{
 "cells": [
  {
   "cell_type": "code",
   "execution_count": 1,
   "id": "1d2dd963",
   "metadata": {},
   "outputs": [],
   "source": [
    "import bittensor\n",
    "import concurrent.futures\n",
    "import time\n",
    "import torch\n"
   ]
  },
  {
   "cell_type": "code",
   "execution_count": 14,
   "id": "4c40a450",
   "metadata": {},
   "outputs": [
    {
     "name": "stdout",
     "output_type": "stream",
     "text": [
      "1\n"
     ]
    }
   ],
   "source": [
    "pool = bittensor.prioritythreadpool(max_workers=1)\n"
   ]
  },
  {
   "cell_type": "code",
   "execution_count": 15,
   "id": "1f8aff83",
   "metadata": {},
   "outputs": [
    {
     "name": "stdout",
     "output_type": "stream",
     "text": [
      "-0.0\n",
      "Start 1\n",
      "-10.010252660376052\n",
      "-20.057293201849284\n",
      "-30.12074695888131\n",
      "-40.17694344849632\n",
      "-50.16365056704637\n",
      "-60.17937895357534\n",
      "-70.11854766446042\n",
      "-80.69601364052879\n",
      "-90.29075844349431\n",
      "Stop 1\n",
      "Start 10\n",
      "Stop 10\n",
      "Start 9\n",
      "Stop 9\n",
      "Start 8\n",
      "Stop 8\n",
      "Start 7\n",
      "Stop 7\n",
      "Start 6\n",
      "Stop 6\n",
      "Start 5\n",
      "Stop 5\n",
      "Start 4\n",
      "Stop 4\n",
      "Start 3\n",
      "Stop 3\n",
      "Start 2\n",
      "Stop 2\n"
     ]
    }
   ],
   "source": [
    "def print_number(number, seconds=3):\n",
    "    print('Start %s' % number)\n",
    "    time.sleep(seconds)\n",
    "    print('Stop %s' % number)\n",
    "    \n",
    "with pool:\n",
    "    for x in range(10):\n",
    "        pool.submit(print_number, x+1,priority=x*10)\n",
    "        "
   ]
  },
  {
   "cell_type": "code",
   "execution_count": 9,
   "id": "632e655d",
   "metadata": {},
   "outputs": [],
   "source": [
    "data = bittensor.dataloader().dataloader()"
   ]
  },
  {
   "cell_type": "code",
   "execution_count": 6,
   "id": "56629f7f",
   "metadata": {},
   "outputs": [
    {
     "data": {
      "text/plain": [
       "True"
      ]
     },
     "execution_count": 6,
     "metadata": {},
     "output_type": "execute_result"
    }
   ],
   "source": [
    "zeros.size(0)==10"
   ]
  },
  {
   "cell_type": "code",
   "execution_count": 8,
   "id": "07b4f394",
   "metadata": {},
   "outputs": [
    {
     "data": {
      "text/plain": [
       "torch.Size([10, 2, 2])"
      ]
     },
     "execution_count": 8,
     "metadata": {},
     "output_type": "execute_result"
    }
   ],
   "source": [
    "torch.zeros((zeros.size())).size()"
   ]
  },
  {
   "cell_type": "code",
   "execution_count": null,
   "id": "668ccdaa",
   "metadata": {},
   "outputs": [],
   "source": []
  }
 ],
 "metadata": {
  "kernelspec": {
   "display_name": "Python 3 (ipykernel)",
   "language": "python",
   "name": "python3"
  },
  "language_info": {
   "codemirror_mode": {
    "name": "ipython",
    "version": 3
   },
   "file_extension": ".py",
   "mimetype": "text/x-python",
   "name": "python",
   "nbconvert_exporter": "python",
   "pygments_lexer": "ipython3",
   "version": "3.8.10"
  }
 },
 "nbformat": 4,
 "nbformat_minor": 5
}
